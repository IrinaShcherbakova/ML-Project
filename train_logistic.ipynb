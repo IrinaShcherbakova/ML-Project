{
 "cells": [
  {
   "cell_type": "markdown",
   "metadata": {},
   "source": [
    "# Import library"
   ]
  },
  {
   "cell_type": "code",
   "execution_count": 2,
   "metadata": {},
   "outputs": [],
   "source": [
    "import numpy as np\n",
    "import pandas as pd \n",
    "import matplotlib.pyplot as plt \n",
    "import seaborn as sns"
   ]
  },
  {
   "cell_type": "markdown",
   "metadata": {},
   "source": [
    "# Load dataset"
   ]
  },
  {
   "cell_type": "code",
   "execution_count": 39,
   "metadata": {},
   "outputs": [],
   "source": [
    "train_df = pd.read_csv(\"preprocessed_train_data.csv\")\n",
    "test_df = pd.read_csv(\"preprocessed_test_data.csv\")"
   ]
  },
  {
   "cell_type": "code",
   "execution_count": 40,
   "metadata": {},
   "outputs": [],
   "source": [
    "x_train = train_df.drop(columns = ['target'])\n",
    "y_train = train_df['target']"
   ]
  },
  {
   "cell_type": "markdown",
   "metadata": {},
   "source": [
    "# Model"
   ]
  },
  {
   "cell_type": "code",
   "execution_count": 33,
   "metadata": {},
   "outputs": [],
   "source": [
    "from sklearn.preprocessing import OneHotEncoder\n",
    "from sklearn.linear_model import LogisticRegression"
   ]
  },
  {
   "cell_type": "code",
   "execution_count": 41,
   "metadata": {},
   "outputs": [
    {
     "data": {
      "text/plain": [
       "OneHotEncoder(categorical_features=None, categories=None,\n",
       "       dtype=<class 'numpy.float64'>, handle_unknown='ignore',\n",
       "       n_values=None, sparse=True)"
      ]
     },
     "execution_count": 41,
     "metadata": {},
     "output_type": "execute_result"
    }
   ],
   "source": [
    "enc = OneHotEncoder(handle_unknown='ignore')\n",
    "enc.fit(x_train)"
   ]
  },
  {
   "cell_type": "code",
   "execution_count": 42,
   "metadata": {},
   "outputs": [
    {
     "data": {
      "text/plain": [
       "[array([0, 1, 2, ..., 7610, 7611, 7612], dtype=object),\n",
       " array(['ablaze', 'accident', 'aftershock', 'airplane%20accident',\n",
       "        'ambulance', 'annihilated', 'annihilation', 'apocalypse',\n",
       "        'armageddon', 'army', 'arson', 'arsonist', 'attack', 'attacked',\n",
       "        'avalanche', 'battle', 'bioterror', 'bioterrorism', 'blaze',\n",
       "        'blazing', 'bleeding', 'blew%20up', 'blight', 'blizzard', 'blood',\n",
       "        'bloody', 'blown%20up', 'body%20bag', 'body%20bagging',\n",
       "        'body%20bags', 'bomb', 'bombed', 'bombing', 'bridg collaps',\n",
       "        'bridge%20collapse', 'buildings%20burning',\n",
       "        'buildings%20on%20fire', 'burned', 'burning',\n",
       "        'burning%20buildings', 'bush%20fires', 'casualties', 'casualty',\n",
       "        'catastrophe', 'catastrophic', 'chemical%20emergency',\n",
       "        'cliff%20fall', 'collapse', 'collapsed', 'collid', 'collide',\n",
       "        'collided', 'collision', 'crash', 'crashed', 'crush', 'crushed',\n",
       "        'curfew', 'cyclone', 'damage', 'danger', 'dead', 'death', 'deaths',\n",
       "        'debri', 'debris', 'deluge', 'deluged', 'demolish', 'demolished',\n",
       "        'demolition', 'derail', 'derailed', 'derailment', 'desolate',\n",
       "        'desolation', 'destroy', 'destroyed', 'destruction', 'detonate',\n",
       "        'detonation', 'devastated', 'devastation', 'disast', 'disaster',\n",
       "        'displaced', 'drought', 'drown', 'drowned', 'drowning',\n",
       "        'dust%20storm', 'earthquak', 'earthquake', 'electrocute',\n",
       "        'electrocuted', 'emerg', 'emergency', 'emergency%20plan',\n",
       "        'emergency%20services', 'engulfed', 'epicentre', 'evacu',\n",
       "        'evacuate', 'evacuated', 'evacuation', 'explod', 'explode',\n",
       "        'exploded', 'explosion', 'eyewitness', 'famine', 'fatal',\n",
       "        'fatalities', 'fatality', 'fear', 'fire', 'fire%20truck',\n",
       "        'first%20responders', 'flames', 'flattened', 'flood', 'flooding',\n",
       "        'floods', 'forest fire', 'forest%20fire', 'forest%20fires', 'hail',\n",
       "        'hailstorm', 'harm', 'hazard', 'hazardous', 'heat wave',\n",
       "        'heat%20wave', 'hellfire', 'hijack', 'hijacker', 'hijacking',\n",
       "        'hostage', 'hostages', 'hurricane', 'injured', 'injuries',\n",
       "        'injury', 'inundated', 'inundation', 'landslide', 'lava',\n",
       "        'lightning', 'loud bang', 'loud%20bang', 'mass%20murder',\n",
       "        'mass%20murderer', 'massacre', 'mayhem', 'meltdown', 'military',\n",
       "        'mudslide', 'natural%20disaster', 'nuclear%20disaster',\n",
       "        'nuclear%20reactor', 'obliterate', 'obliterated', 'obliteration',\n",
       "        'oil spill', 'oil%20spill', 'other', 'outbreak', 'pandemonium',\n",
       "        'panic', 'panicking', 'police', 'quarantin', 'quarantine',\n",
       "        'quarantined', 'radiation%20emergency', 'rainstorm', 'razed',\n",
       "        'refugees', 'rescue', 'rescued', 'rescuers', 'riot', 'rioting',\n",
       "        'rubble', 'ruin', 'sandstorm', 'screamed', 'screaming', 'screams',\n",
       "        'seismic', 'sinkhole', 'sinking', 'siren', 'sirens', 'smoke',\n",
       "        'snowstorm', 'storm', 'stretcher', 'structural%20failure',\n",
       "        'suicid bomber', 'suicide%20bomb', 'suicide%20bomber',\n",
       "        'suicide%20bombing', 'sunk', 'survive', 'survived', 'survivors',\n",
       "        'terrorism', 'terrorist', 'threat', 'thunder', 'thunderstorm',\n",
       "        'tornado', 'tragedy', 'trapped', 'trauma', 'traumatised',\n",
       "        'trouble', 'tsunami', 'twister', 'typhoon', 'upheaval',\n",
       "        'violent%20storm', 'volcano', 'war%20zone', 'weapon', 'weapons',\n",
       "        'whirlwind', 'wild%20fires', 'wildfir', 'wildfire', 'windstorm',\n",
       "        'wounded', 'wounds', 'wreck', 'wreckage', 'wrecked'], dtype=object),\n",
       " array(['  aannnnd geddit quarantin offens content',\n",
       "        '  aaronthefm guy scare show real name anyway know bomb',\n",
       "        '  aashiqui actress anu agarw near fatal accid', ...,\n",
       "        '  zoona dealbreak dealbreak abandon ship evacu build',\n",
       "        '  zourryart forgot add burn build scream babi',\n",
       "        '  zxatheti okay electrocut badli right'], dtype=object)]"
      ]
     },
     "execution_count": 42,
     "metadata": {},
     "output_type": "execute_result"
    }
   ],
   "source": [
    "enc.categories_"
   ]
  },
  {
   "cell_type": "code",
   "execution_count": null,
   "metadata": {},
   "outputs": [],
   "source": [
    "# all parameters not specified are set to their defaults\n",
    "logisticRegr = LogisticRegression()"
   ]
  },
  {
   "cell_type": "code",
   "execution_count": null,
   "metadata": {},
   "outputs": [],
   "source": [
    "logisticRegr.fit(x_train, y_train)"
   ]
  },
  {
   "cell_type": "markdown",
   "metadata": {},
   "source": [
    "# Prediction"
   ]
  },
  {
   "cell_type": "code",
   "execution_count": null,
   "metadata": {},
   "outputs": [],
   "source": [
    "predictions = logisticRegr.predict(x_test)"
   ]
  },
  {
   "cell_type": "markdown",
   "metadata": {},
   "source": [
    "# Evaluation\n",
    "https://towardsdatascience.com/logistic-regression-using-python-sklearn-numpy-mnist-handwriting-recognition-matplotlib-a6b31e2b166a"
   ]
  },
  {
   "cell_type": "code",
   "execution_count": null,
   "metadata": {},
   "outputs": [],
   "source": [
    "from sklearn.metrics import classification_report, confusion_matrix"
   ]
  },
  {
   "cell_type": "code",
   "execution_count": null,
   "metadata": {},
   "outputs": [],
   "source": [
    "# Use score method to get accuracy of model\n",
    "score = logisticRegr.score(x_test, y_test)\n",
    "print(score)"
   ]
  }
 ],
 "metadata": {
  "kernelspec": {
   "display_name": "Python 3",
   "language": "python",
   "name": "python3"
  },
  "language_info": {
   "codemirror_mode": {
    "name": "ipython",
    "version": 3
   },
   "file_extension": ".py",
   "mimetype": "text/x-python",
   "name": "python",
   "nbconvert_exporter": "python",
   "pygments_lexer": "ipython3",
   "version": "3.7.3"
  }
 },
 "nbformat": 4,
 "nbformat_minor": 2
}
